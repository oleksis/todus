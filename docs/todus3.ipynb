{
 "cells": [
  {
   "cell_type": "markdown",
   "metadata": {},
   "source": [
    "# todus3 v0.8.0-alpha.1 📓🍎\n",
    "\n",
    "## Actualizamos pip, setuptools y wheel"
   ]
  },
  {
   "cell_type": "code",
   "execution_count": 1,
   "metadata": {
    "scrolled": true
   },
   "outputs": [
    {
     "name": "stdout",
     "output_type": "stream",
     "text": [
      "Collecting pip\n",
      "  Downloading https://files.pythonhosted.org/packages/7c/02/9ab8b431aca1b46fcc1ac830a5870a28a12ba1abfa681904b1d2da876a86/pip-21.2.1-py3-none-any.whl (1.6MB)\n",
      "\u001b[K     |████████████████████████████████| 1.6MB 554kB/s eta 0:00:01\n",
      "\u001b[?25hCollecting setuptools\n",
      "  Using cached https://files.pythonhosted.org/packages/bd/25/5bdf7f1adeebd4e3fa76b2e2f045ae53ee208e40a4231ad0f0c3007e4353/setuptools-57.4.0-py3-none-any.whl\n",
      "Collecting wheel\n",
      "  Using cached https://files.pythonhosted.org/packages/65/63/39d04c74222770ed1589c0eaba06c05891801219272420b40311cd60c880/wheel-0.36.2-py2.py3-none-any.whl\n",
      "Installing collected packages: pip, setuptools, wheel\n",
      "  Found existing installation: pip 19.1.1\n",
      "    Uninstalling pip-19.1.1:\n",
      "      Successfully uninstalled pip-19.1.1\n",
      "  Found existing installation: setuptools 39.0.1\n",
      "    Uninstalling setuptools-39.0.1:\n",
      "      Successfully uninstalled setuptools-39.0.1\n",
      "Successfully installed pip-21.2.1 setuptools-57.4.0 wheel-0.36.2\n",
      "\r"
     ]
    }
   ],
   "source": [
    "!python -m pip install -U pip setuptools wheel"
   ]
  },
  {
   "cell_type": "markdown",
   "metadata": {},
   "source": [
    "## Instalamos dependencias mínimas pasa descargas S3 "
   ]
  },
  {
   "cell_type": "code",
   "execution_count": 2,
   "metadata": {
    "scrolled": true
   },
   "outputs": [
    {
     "name": "stdout",
     "output_type": "stream",
     "text": [
      "Entered _get_package,  pip._vendor.certifi\n",
      "Requirement already satisfied: requests in /private/var/mobile/Containers/Data/Application/3D4EA434-C999-4503-AF36-D61015310E67/Library/lib/python3.7/site-packages (2.23.0)\n",
      "Collecting tqdm\n",
      "  Using cached tqdm-4.61.2-py2.py3-none-any.whl (76 kB)\n",
      "Requirement already satisfied: certifi>=2017.4.17 in /private/var/mobile/Containers/Data/Application/3D4EA434-C999-4503-AF36-D61015310E67/Library/lib/python3.7/site-packages (from requests) (2019.11.28)\n",
      "Requirement already satisfied: chardet<4,>=3.0.2 in /private/var/mobile/Containers/Data/Application/3D4EA434-C999-4503-AF36-D61015310E67/Library/lib/python3.7/site-packages (from requests) (3.0.4)\n",
      "Requirement already satisfied: urllib3!=1.25.0,!=1.25.1,<1.26,>=1.21.1 in /private/var/mobile/Containers/Data/Application/3D4EA434-C999-4503-AF36-D61015310E67/Library/lib/python3.7/site-packages (from requests) (1.25.8)\n",
      "Requirement already satisfied: idna<3,>=2.5 in /private/var/mobile/Containers/Data/Application/3D4EA434-C999-4503-AF36-D61015310E67/Library/lib/python3.7/site-packages (from requests) (2.8)\n",
      "Installing collected packages: tqdm\n",
      "Successfully installed tqdm-4.61.2\n",
      "\r"
     ]
    }
   ],
   "source": [
    "!python -m pip install requests tqdm"
   ]
  },
  {
   "cell_type": "markdown",
   "metadata": {},
   "source": [
    "## Instalamos todus3 v0.8.0 pre-release "
   ]
  },
  {
   "cell_type": "code",
   "execution_count": 3,
   "metadata": {
    "scrolled": true
   },
   "outputs": [
    {
     "name": "stdout",
     "output_type": "stream",
     "text": [
      "Entered _get_package,  pip._vendor.certifi\n",
      "Collecting todus3\n",
      "  Downloading todus3-0.8.0a1-py3-none-any.whl (16 kB)\n",
      "Installing collected packages: todus3\n",
      "Successfully installed todus3-0.8.0a1\n",
      "\r"
     ]
    }
   ],
   "source": [
    "!python -m pip install --no-deps --pre todus3"
   ]
  },
  {
   "cell_type": "markdown",
   "metadata": {},
   "source": [
    "## Comprobamos mediante la Ayuda"
   ]
  },
  {
   "cell_type": "code",
   "execution_count": 4,
   "metadata": {
    "scrolled": true
   },
   "outputs": [
    {
     "name": "stdout",
     "output_type": "stream",
     "text": [
      "usage: todus3 [-h] -n PHONE-NUMBER [-c FOLDER] [-v]\n",
      "              {login,upload,download} ...\n",
      "\n",
      "ToDus Client for S3\n",
      "\n",
      "positional arguments:\n",
      "  {login,upload,download}\n",
      "    login               authenticate in server\n",
      "    upload              upload file\n",
      "    download            download file\n",
      "\n",
      "optional arguments:\n",
      "  -h, --help            show this help message and exit\n",
      "  -n PHONE-NUMBER, --number PHONE-NUMBER\n",
      "                        account's phone number\n",
      "  -c FOLDER, --config-folder FOLDER\n",
      "                        folder where account configuration will be\n",
      "                        saved/loaded\n",
      "  -v, --version         show program's version number and exit.\n",
      "\r"
     ]
    }
   ],
   "source": [
    "!todus3 -h"
   ]
  },
  {
   "cell_type": "markdown",
   "metadata": {},
   "source": [
    "## Descargamos usando archivo TXT"
   ]
  },
  {
   "cell_type": "code",
   "execution_count": 5,
   "metadata": {},
   "outputs": [
    {
     "name": "stderr",
     "output_type": "stream",
     "text": [
      "/var/mobile/Containers/Data/Application/3D4EA434-C999-4503-AF36-D61015310E67/Library/lib/python3.7/site-packages/urllib3/connectionpool.py:847: InsecureRequestWarning: Unverified HTTPS request is being made. Adding certificate verification is strongly advised. See: https://urllib3.readthedocs.io/en/latest/advanced-usage.html#ssl-warnings\n",
      "  InsecureRequestWarning)\n",
      "/var/mobile/Containers/Data/Application/3D4EA434-C999-4503-AF36-D61015310E67/Library/lib/python3.7/site-packages/urllib3/connectionpool.py:847: InsecureRequestWarning: Unverified HTTPS request is being made. Adding certificate verification is strongly advised. See: https://urllib3.readthedocs.io/en/latest/advanced-usage.html#ssl-warnings\n",
      "  InsecureRequestWarning)\n",
      "todus3.exe:  10%|▉         | 1.05M/10.9M [01:05<3:45:37, 726B/s]\r"
     ]
    }
   ],
   "source": [
    "!todus3 -n 53123456 download todus3.exe.txt"
   ]
  }
 ],
 "metadata": {
  "kernelspec": {
   "display_name": "Python 3",
   "language": "python",
   "name": "python3"
  },
  "language_info": {
   "codemirror_mode": {
    "name": "ipython",
    "version": 3
   },
   "file_extension": ".py",
   "mimetype": "text/x-python",
   "name": "python",
   "nbconvert_exporter": "python",
   "pygments_lexer": "ipython3",
   "version": "3.8.3"
  }
 },
 "nbformat": 4,
 "nbformat_minor": 2
}
