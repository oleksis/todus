{
 "cells": [
  {
   "cell_type": "markdown",
   "metadata": {},
   "source": [
    "# todus3 v0.8.5-alpha.1 📓🍎\n",
    "\n",
    "## Actualizamos pip, setuptools y wheel"
   ]
  },
  {
   "cell_type": "code",
   "execution_count": 1,
   "metadata": {
    "scrolled": true
   },
   "outputs": [
    {
     "name": "stdout",
     "output_type": "stream",
     "text": [
      "Collecting pip\n",
      "  Downloading https://files.pythonhosted.org/packages/7c/02/9ab8b431aca1b46fcc1ac830a5870a28a12ba1abfa681904b1d2da876a86/pip-21.2.1-py3-none-any.whl (1.6MB)\n",
      "\u001b[K     |████████████████████████████████| 1.6MB 554kB/s eta 0:00:01\n",
      "\u001b[?25hCollecting setuptools\n",
      "  Using cached https://files.pythonhosted.org/packages/bd/25/5bdf7f1adeebd4e3fa76b2e2f045ae53ee208e40a4231ad0f0c3007e4353/setuptools-57.4.0-py3-none-any.whl\n",
      "Collecting wheel\n",
      "  Using cached https://files.pythonhosted.org/packages/65/63/39d04c74222770ed1589c0eaba06c05891801219272420b40311cd60c880/wheel-0.36.2-py2.py3-none-any.whl\n",
      "Installing collected packages: pip, setuptools, wheel\n",
      "  Found existing installation: pip 19.1.1\n",
      "    Uninstalling pip-19.1.1:\n",
      "      Successfully uninstalled pip-19.1.1\n",
      "  Found existing installation: setuptools 39.0.1\n",
      "    Uninstalling setuptools-39.0.1:\n",
      "      Successfully uninstalled setuptools-39.0.1\n",
      "Successfully installed pip-21.2.1 setuptools-57.4.0 wheel-0.36.2\n",
      "\r"
     ]
    }
   ],
   "source": [
    "!python -m pip install -U pip setuptools wheel"
   ]
  },
  {
   "cell_type": "markdown",
   "metadata": {},
   "source": [
    "## Instalamos dependencias mínimas pasa descargas S3 "
   ]
  },
  {
   "cell_type": "code",
   "execution_count": 2,
   "metadata": {
    "scrolled": true
   },
   "outputs": [
    {
     "name": "stdout",
     "output_type": "stream",
     "text": [
      "Entered _get_package,  pip._vendor.certifi\n",
      "Requirement already satisfied: requests in /private/var/mobile/Containers/Data/Application/3D4EA434-C999-4503-AF36-D61015310E67/Library/lib/python3.7/site-packages (2.23.0)\n",
      "Collecting tqdm\n",
      "  Using cached tqdm-4.61.2-py2.py3-none-any.whl (76 kB)\n",
      "Requirement already satisfied: certifi>=2017.4.17 in /private/var/mobile/Containers/Data/Application/3D4EA434-C999-4503-AF36-D61015310E67/Library/lib/python3.7/site-packages (from requests) (2019.11.28)\n",
      "Requirement already satisfied: chardet<4,>=3.0.2 in /private/var/mobile/Containers/Data/Application/3D4EA434-C999-4503-AF36-D61015310E67/Library/lib/python3.7/site-packages (from requests) (3.0.4)\n",
      "Requirement already satisfied: urllib3!=1.25.0,!=1.25.1,<1.26,>=1.21.1 in /private/var/mobile/Containers/Data/Application/3D4EA434-C999-4503-AF36-D61015310E67/Library/lib/python3.7/site-packages (from requests) (1.25.8)\n",
      "Requirement already satisfied: idna<3,>=2.5 in /private/var/mobile/Containers/Data/Application/3D4EA434-C999-4503-AF36-D61015310E67/Library/lib/python3.7/site-packages (from requests) (2.8)\n",
      "Installing collected packages: tqdm\n",
      "Successfully installed tqdm-4.61.2\n",
      "\r"
     ]
    }
   ],
   "source": [
    "!python -m pip install requests tqdm"
   ]
  },
  {
   "cell_type": "markdown",
   "metadata": {},
   "source": [
    "## Instalamos UX ipywidgets"
   ]
  },
  {
   "cell_type": "code",
   "execution_count": 3,
   "metadata": {
    "scrolled": true
   },
   "outputs": [
    {
     "name": "stdout",
     "output_type": "stream",
     "text": [
      "Entered _get_package,  pip._vendor.certifi\n",
      "Requirement already satisfied: ipywidgets in /private/var/mobile/Containers/Data/Application/3D4EA434-C999-4503-AF36-D61015310E67/Library/lib/python3.7/site-packages (7.4.2)\n",
      "Requirement already satisfied: nbformat>=4.2.0 in /private/var/mobile/Containers/Data/Application/3D4EA434-C999-4503-AF36-D61015310E67/Library/lib/python3.7/site-packages (from ipywidgets) (4.4.0)\n",
      "Requirement already satisfied: traitlets>=4.3.1 in /private/var/mobile/Containers/Data/Application/3D4EA434-C999-4503-AF36-D61015310E67/Library/lib/python3.7/site-packages (from ipywidgets) (4.3.2)\n",
      "Requirement already satisfied: widgetsnbextension~=3.4.0 in /private/var/mobile/Containers/Data/Application/3D4EA434-C999-4503-AF36-D61015310E67/Library/lib/python3.7/site-packages (from ipywidgets) (3.4.2)\n",
      "Requirement already satisfied: ipykernel>=4.5.1 in /private/var/mobile/Containers/Data/Application/3D4EA434-C999-4503-AF36-D61015310E67/Library/lib/python3.7/site-packages (from ipywidgets) (5.1.0)\n",
      "Requirement already satisfied: ipython>=4.0.0 in /private/var/mobile/Containers/Data/Application/3D4EA434-C999-4503-AF36-D61015310E67/Library/lib/python3.7/site-packages (from ipywidgets) (7.3.0)\n",
      "Requirement already satisfied: tornado>=4.2 in /private/var/mobile/Containers/Data/Application/3D4EA434-C999-4503-AF36-D61015310E67/Library/lib/python3.7/site-packages/tornado-6.0.1-py3.7-macosx-12.1-iPad6,7.egg (from ipykernel>=4.5.1->ipywidgets) (6.0.1)\n",
      "Requirement already satisfied: jupyter-client in /private/var/mobile/Containers/Data/Application/3D4EA434-C999-4503-AF36-D61015310E67/Library/lib/python3.7/site-packages (from ipykernel>=4.5.1->ipywidgets) (5.2.4)\n",
      "Requirement already satisfied: jupyter-core in /private/var/mobile/Containers/Data/Application/3D4EA434-C999-4503-AF36-D61015310E67/Library/lib/python3.7/site-packages (from nbformat>=4.2.0->ipywidgets) (4.4.0)\n",
      "Requirement already satisfied: ipython-genutils in /private/var/mobile/Containers/Data/Application/3D4EA434-C999-4503-AF36-D61015310E67/Library/lib/python3.7/site-packages (from nbformat>=4.2.0->ipywidgets) (0.2.0)\n",
      "Requirement already satisfied: jsonschema!=2.5.0,>=2.4 in /private/var/mobile/Containers/Data/Application/3D4EA434-C999-4503-AF36-D61015310E67/Library/lib/python3.7/site-packages (from nbformat>=4.2.0->ipywidgets) (2.6.0)\n",
      "Requirement already satisfied: decorator in /private/var/mobile/Containers/Data/Application/3D4EA434-C999-4503-AF36-D61015310E67/Library/lib/python3.7/site-packages (from traitlets>=4.3.1->ipywidgets) (4.3.0)\n",
      "Requirement already satisfied: six in /private/var/mobile/Containers/Data/Application/3D4EA434-C999-4503-AF36-D61015310E67/Library/lib/python3.7/site-packages (from traitlets>=4.3.1->ipywidgets) (1.12.0)\n",
      "Requirement already satisfied: notebook>=4.4.1 in /private/var/mobile/Containers/Data/Application/3D4EA434-C999-4503-AF36-D61015310E67/Library/lib/python3.7/site-packages (from widgetsnbextension~=3.4.0->ipywidgets) (5.7.6)\n",
      "Requirement already satisfied: jinja2 in /private/var/mobile/Containers/Data/Application/3D4EA434-C999-4503-AF36-D61015310E67/Library/lib/python3.7/site-packages (from notebook>=4.4.1->widgetsnbextension~=3.4.0->ipywidgets) (2.10)\n",
      "Requirement already satisfied: pyzmq>=17 in /private/var/mobile/Containers/Data/Application/3D4EA434-C999-4503-AF36-D61015310E67/Library/lib/python3.7/site-packages (from notebook>=4.4.1->widgetsnbextension~=3.4.0->ipywidgets) (17.1.2)\n",
      "Requirement already satisfied: nbconvert in /private/var/mobile/Containers/Data/Application/3D4EA434-C999-4503-AF36-D61015310E67/Library/lib/python3.7/site-packages (from notebook>=4.4.1->widgetsnbextension~=3.4.0->ipywidgets) (5.4.1)\n",
      "Requirement already satisfied: Send2Trash in /private/var/mobile/Containers/Data/Application/3D4EA434-C999-4503-AF36-D61015310E67/Library/lib/python3.7/site-packages (from notebook>=4.4.1->widgetsnbextension~=3.4.0->ipywidgets) (1.5.0)\n",
      "Requirement already satisfied: terminado>=0.8.1 in /private/var/mobile/Containers/Data/Application/3D4EA434-C999-4503-AF36-D61015310E67/Library/lib/python3.7/site-packages (from notebook>=4.4.1->widgetsnbextension~=3.4.0->ipywidgets) (0.8.1)\n",
      "Requirement already satisfied: prometheus_client in /private/var/mobile/Containers/Data/Application/3D4EA434-C999-4503-AF36-D61015310E67/Library/lib/python3.7/site-packages (from notebook>=4.4.1->widgetsnbextension~=3.4.0->ipywidgets) (0.5.0)\n",
      "Requirement already satisfied: python-dateutil>=2.1 in /private/var/mobile/Containers/Data/Application/3D4EA434-C999-4503-AF36-D61015310E67/Library/lib/python3.7/site-packages (from jupyter-client->ipykernel>=4.5.1->ipywidgets) (2.7.5)\n",
      "Requirement already satisfied: ptyprocess in /private/var/mobile/Containers/Data/Application/3D4EA434-C999-4503-AF36-D61015310E67/Library/lib/python3.7/site-packages (from terminado>=0.8.1->notebook>=4.4.1->widgetsnbextension~=3.4.0->ipywidgets) (0.6.0)\n",
      "Requirement already satisfied: MarkupSafe>=0.23 in /private/var/mobile/Containers/Data/Application/3D4EA434-C999-4503-AF36-D61015310E67/Library/lib/python3.7/site-packages (from jinja2->notebook>=4.4.1->widgetsnbextension~=3.4.0->ipywidgets) (1.1.0)\n",
      "Requirement already satisfied: mistune>=0.8.1 in /private/var/mobile/Containers/Data/Application/3D4EA434-C999-4503-AF36-D61015310E67/Library/lib/python3.7/site-packages (from nbconvert->notebook>=4.4.1->widgetsnbextension~=3.4.0->ipywidgets) (0.8.4)\n",
      "Requirement already satisfied: pygments in /private/var/mobile/Containers/Data/Application/3D4EA434-C999-4503-AF36-D61015310E67/Library/lib/python3.7/site-packages (from nbconvert->notebook>=4.4.1->widgetsnbextension~=3.4.0->ipywidgets) (2.3.1)\n",
      "Requirement already satisfied: entrypoints>=0.2.2 in /private/var/mobile/Containers/Data/Application/3D4EA434-C999-4503-AF36-D61015310E67/Library/lib/python3.7/site-packages (from nbconvert->notebook>=4.4.1->widgetsnbextension~=3.4.0->ipywidgets) (0.3)\n",
      "Requirement already satisfied: bleach in /private/var/mobile/Containers/Data/Application/3D4EA434-C999-4503-AF36-D61015310E67/Library/lib/python3.7/site-packages (from nbconvert->notebook>=4.4.1->widgetsnbextension~=3.4.0->ipywidgets) (3.0.2)\n",
      "Requirement already satisfied: pandocfilters>=1.4.1 in /private/var/mobile/Containers/Data/Application/3D4EA434-C999-4503-AF36-D61015310E67/Library/lib/python3.7/site-packages (from nbconvert->notebook>=4.4.1->widgetsnbextension~=3.4.0->ipywidgets) (1.4.2)\n",
      "Requirement already satisfied: testpath in /private/var/mobile/Containers/Data/Application/3D4EA434-C999-4503-AF36-D61015310E67/Library/lib/python3.7/site-packages (from nbconvert->notebook>=4.4.1->widgetsnbextension~=3.4.0->ipywidgets) (0.4.2)\n",
      "Requirement already satisfied: defusedxml in /private/var/mobile/Containers/Data/Application/3D4EA434-C999-4503-AF36-D61015310E67/Library/lib/python3.7/site-packages (from nbconvert->notebook>=4.4.1->widgetsnbextension~=3.4.0->ipywidgets) (0.5.0)\n",
      "Requirement already satisfied: webencodings in /private/var/mobile/Containers/Data/Application/3D4EA434-C999-4503-AF36-D61015310E67/Library/lib/python3.7/site-packages (from bleach->nbconvert->notebook>=4.4.1->widgetsnbextension~=3.4.0->ipywidgets) (0.5.1)\n",
      "\r"
     ]
    }
   ],
   "source": [
    "!python -m pip install ipywidgets"
   ]
  },
  {
   "cell_type": "markdown",
   "metadata": {},
   "source": [
    "## Instalamos todus3 v0.8.5 pre-release "
   ]
  },
  {
   "cell_type": "code",
   "execution_count": 4,
   "metadata": {
    "scrolled": true
   },
   "outputs": [
    {
     "name": "stdout",
     "output_type": "stream",
     "text": [
      "Entered _get_package,  pip._vendor.certifi\n",
      "Collecting todus3\n",
      "  Downloading todus3-0.8.5a1-py3-none-any.whl (16 kB)\n",
      "Installing collected packages: todus3\n",
      "Successfully installed todus3-0.8.5a1\n",
      "\r"
     ]
    }
   ],
   "source": [
    "!python -m pip install --no-deps --pre todus3"
   ]
  },
  {
   "cell_type": "markdown",
   "metadata": {},
   "source": [
    "## Comprobamos mediante la Ayuda"
   ]
  },
  {
   "cell_type": "code",
   "execution_count": 5,
   "metadata": {
    "scrolled": true
   },
   "outputs": [
    {
     "name": "stdout",
     "output_type": "stream",
     "text": [
      "usage: todus3 [-h] -n PHONE-NUMBER [-c FOLDER] [-v]\n",
      "              {login,upload,download} ...\n",
      "\n",
      "ToDus Client for S3\n",
      "\n",
      "positional arguments:\n",
      "  {login,upload,download}\n",
      "    login               authenticate in server\n",
      "    upload              upload file\n",
      "    download            download file\n",
      "\n",
      "optional arguments:\n",
      "  -h, --help            show this help message and exit\n",
      "  -n PHONE-NUMBER, --number PHONE-NUMBER\n",
      "                        account's phone number\n",
      "  -c FOLDER, --config-folder FOLDER\n",
      "                        folder where account configuration will be\n",
      "                        saved/loaded\n",
      "  -v, --version         show program's version number and exit.\n",
      "\r"
     ]
    }
   ],
   "source": [
    "!todus3 -h"
   ]
  },
  {
   "cell_type": "markdown",
   "metadata": {},
   "source": [
    "## Introduzca el número de teléfono:"
   ]
  },
  {
   "cell_type": "code",
   "execution_count": 6,
   "metadata": {},
   "outputs": [
    {
     "data": {
      "application/vnd.jupyter.widget-view+json": {
       "model_id": "8a271cb6e5534cb59eee39f1b250534f",
       "version_major": 2,
       "version_minor": 0
      },
      "text/plain": [
       "BoundedIntText(value=52000000, description='Phone:', max=59000000, min=52000000)"
      ]
     },
     "metadata": {},
     "output_type": "display_data"
    }
   ],
   "source": [
    "from ipywidgets.widgets import BoundedIntText\n",
    "btb = BoundedIntText(\n",
    "    value=52000000,\n",
    "    min=52000000,\n",
    "    max=59000000,\n",
    "    description=\"Phone:\"\n",
    ")\n",
    "display(btb)"
   ]
  },
  {
   "cell_type": "markdown",
   "metadata": {},
   "source": [
    "## Registro en Todus"
   ]
  },
  {
   "cell_type": "code",
   "execution_count": 7,
   "metadata": {
    "scrolled": true
   },
   "outputs": [
    {
     "name": "stderr",
     "output_type": "stream",
     "text": [
      "/var/mobile/Containers/Data/Application/3D4EA434-C999-4503-AF36-D61015310E67/Library/lib/python3.7/site-packages/urllib3/connectionpool.py:847: InsecureRequestWarning: Unverified HTTPS request is being made. Adding certificate verification is strongly advised. See: https://urllib3.readthedocs.io/en/latest/advanced-usage.html#ssl-warnings\n",
      "  InsecureRequestWarning)\n"
     ]
    },
    {
     "name": "stdout",
     "output_type": "stream",
     "text": [
      "Enter PIN:225586\n"
     ]
    },
    {
     "name": "stderr",
     "output_type": "stream",
     "text": [
      "/var/mobile/Containers/Data/Application/3D4EA434-C999-4503-AF36-D61015310E67/Library/lib/python3.7/site-packages/urllib3/connectionpool.py:847: InsecureRequestWarning: Unverified HTTPS request is being made. Adding certificate verification is strongly advised. See: https://urllib3.readthedocs.io/en/latest/advanced-usage.html#ssl-warnings\n",
      "  InsecureRequestWarning)\n",
      "/var/mobile/Containers/Data/Application/3D4EA434-C999-4503-AF36-D61015310E67/Library/lib/python3.7/site-packages/urllib3/connectionpool.py:847: InsecureRequestWarning: Unverified HTTPS request is being made. Adding certificate verification is strongly advised. See: https://urllib3.readthedocs.io/en/latest/advanced-usage.html#ssl-warnings\n",
      "  InsecureRequestWarning)\n"
     ]
    }
   ],
   "source": [
    "# Login in ToDus\n",
    "from todus3. main import main\n",
    "main(\n",
    "    action=\"login\",\n",
    "    phone_number=btb.value,\n",
    "    folder_conf=\".\"\n",
    ")"
   ]
  },
  {
   "cell_type": "markdown",
   "metadata": {},
   "source": [
    "## Descargamos usando archivo TXT\n",
    "Remplaza **PHONE_NUMBER** con tu número de telefono móvil"
   ]
  },
  {
   "cell_type": "code",
   "execution_count": 8,
   "metadata": {},
   "outputs": [
    {
     "name": "stderr",
     "output_type": "stream",
     "text": [
      "/var/mobile/Containers/Data/Application/3D4EA434-C999-4503-AF36-D61015310E67/Library/lib/python3.7/site-packages/urllib3/connectionpool.py:847: InsecureRequestWarning: Unverified HTTPS request is being made. Adding certificate verification is strongly advised. See: https://urllib3.readthedocs.io/en/latest/advanced-usage.html#ssl-warnings\n",
      "  InsecureRequestWarning)\n",
      "/var/mobile/Containers/Data/Application/3D4EA434-C999-4503-AF36-D61015310E67/Library/lib/python3.7/site-packages/urllib3/connectionpool.py:847: InsecureRequestWarning: Unverified HTTPS request is being made. Adding certificate verification is strongly advised. See: https://urllib3.readthedocs.io/en/latest/advanced-usage.html#ssl-warnings\n",
      "  InsecureRequestWarning)\n",
      "todus3.exe:  10%|▉         | 1.05M/10.9M [01:05<3:45:37, 726B/s]\r"
     ]
    }
   ],
   "source": [
    "!todus3 -n PHONE_NUMBER download todus3.exe.txt"
   ]
  }
 ],
 "metadata": {
  "kernelspec": {
   "display_name": "Python 3",
   "language": "python",
   "name": "python3"
  },
  "language_info": {
   "codemirror_mode": {
    "name": "ipython",
    "version": 3
   },
   "file_extension": ".py",
   "mimetype": "text/x-python",
   "name": "python",
   "nbconvert_exporter": "python",
   "pygments_lexer": "ipython3",
   "version": "3.8.3"
  }
 },
 "nbformat": 4,
 "nbformat_minor": 2
}
